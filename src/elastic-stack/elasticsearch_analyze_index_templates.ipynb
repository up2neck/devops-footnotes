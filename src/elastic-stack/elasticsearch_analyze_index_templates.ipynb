{
 "cells": [
  {
   "cell_type": "markdown",
   "id": "7a7b46cb-6c22-4efd-8ea4-8ffb198f219b",
   "metadata": {},
   "source": [
    "# Analyze Elasticsearch index templates\n",
    "\n",
    "The notebook gives insights to index templates:\n",
    "- Unused component templates\n",
    "- Overlapping templates"
   ]
  },
  {
   "cell_type": "markdown",
   "id": "3b444c65-a4bc-424a-b8ca-67fc174272fa",
   "metadata": {},
   "source": [
    "## Prepare environment"
   ]
  },
  {
   "cell_type": "markdown",
   "id": "30ebfae4-cc55-4373-b5cf-3b7559864315",
   "metadata": {},
   "source": [
    "### Install required Python packages"
   ]
  },
  {
   "cell_type": "code",
   "execution_count": null,
   "id": "8426df11-527e-4a2a-9dbb-a231732afb33",
   "metadata": {},
   "outputs": [],
   "source": [
    "pip install pandas~=2.2 elasticsearch~=8.15"
   ]
  },
  {
   "cell_type": "markdown",
   "id": "f3b79b56-81aa-4ab9-964b-ce99579c9d71",
   "metadata": {},
   "source": [
    "### Restart Jupiter kernel"
   ]
  },
  {
   "cell_type": "code",
   "execution_count": null,
   "id": "b8195bd4-b6bc-48a2-a6df-da1c8f14b74f",
   "metadata": {},
   "outputs": [],
   "source": [
    "get_ipython().kernel.do_shutdown(True)"
   ]
  },
  {
   "cell_type": "markdown",
   "id": "f51747dd-5d0d-4711-b75c-419cec809c8c",
   "metadata": {},
   "source": [
    "### Import packages"
   ]
  },
  {
   "cell_type": "code",
   "execution_count": null,
   "id": "b1176e5a-ad1f-4691-842a-ecea624811b4",
   "metadata": {},
   "outputs": [],
   "source": [
    "import getpass\n",
    "import re\n",
    "from pathlib import Path\n",
    "from elasticsearch import Elasticsearch\n",
    "from IPython.display import display, FileLink\n",
    "import pandas as pd"
   ]
  },
  {
   "cell_type": "markdown",
   "id": "f07eee9b-fa4e-43a6-9596-c675d1fb5839",
   "metadata": {},
   "source": [
    "### Input Elasticsearch connection settings\n",
    "\n",
    "To connect Elasticsearh instance it's hostname and valid API key are required.\n",
    "\n",
    "API key can be created via Kibana - [https://www.elastic.co/guide/en/kibana/current/api-keys.html](https://www.elastic.co/guide/en/kibana/current/api-keys.html)"
   ]
  },
  {
   "cell_type": "code",
   "execution_count": null,
   "id": "420315ad-d0fe-40d8-96f6-b5dd6ffc8ec2",
   "metadata": {},
   "outputs": [],
   "source": [
    "elasticsearch_host = input(\"Enter Elasticsearch hostname: \").strip()"
   ]
  },
  {
   "cell_type": "code",
   "execution_count": null,
   "id": "e1deddfe-f3db-4a5b-b9f2-539b6a8fb9b2",
   "metadata": {},
   "outputs": [],
   "source": [
    "elasticsearch_api_key = getpass.getpass(\"Enter Elasticsearch API key: \").strip()"
   ]
  },
  {
   "cell_type": "markdown",
   "id": "f3c2ed80-eaac-4a40-9824-3c8f5de4becf",
   "metadata": {},
   "source": [
    "### Create Elasticsearch client and connect the cluster"
   ]
  },
  {
   "cell_type": "code",
   "execution_count": null,
   "id": "6fcb94e0-0d03-4f4f-8c6f-ea07f764e71b",
   "metadata": {},
   "outputs": [],
   "source": [
    "client = Elasticsearch(\n",
    "    hosts=elasticsearch_host,\n",
    "    api_key=elasticsearch_api_key,\n",
    "    verify_certs=False,             # Elasticsearch certificate is signed by the non-public authority, so ignore any warning\n",
    "    ssl_show_warn=False             # Unverified SSL/TLS connections cause a lot of warnings, so them should be supressed\n",
    ")"
   ]
  },
  {
   "cell_type": "code",
   "execution_count": null,
   "id": "7ebd86e9-5fd3-436c-93e9-65b7f1f98a1f",
   "metadata": {},
   "outputs": [],
   "source": [
    "print(client.cat.health())"
   ]
  },
  {
   "cell_type": "markdown",
   "id": "1adbb432-e795-4c99-8acd-c2c3627b9fa0",
   "metadata": {},
   "source": [
    "## Analyze index templates in the cluster"
   ]
  },
  {
   "cell_type": "markdown",
   "id": "402035e0-4a8c-49f3-ba83-379d989c7eb3",
   "metadata": {},
   "source": [
    "### Analyze templates overlapping\n",
    "\n",
    "> [https://www.elastic.co/guide/en/elasticsearch/reference/current/index-templates.html](https://www.elastic.co/guide/en/elasticsearch/reference/current/index-templates.html)\n",
    "\n",
    "In Elasticsearch, index configurations, including settings and field mappings, are determined by an index template. When data arrives at the cluster and the destination index or data stream does not exist, Elasticsearch can automatically create the index. This is achieved by comparing the index name from the client's request with the index templates in the cluster, selecting the one with the highest priority.\n",
    "\n",
    "Over time, and without proper management, the number of templates can increase. This can lead to situations where multiple index templates match the same index patterns, but only the one with the highest priority is used.\n",
    "\n",
    "In the long term, it becomes challenging to determine which index patterns are still required.\n",
    "\n",
    "The code below is designed to identify index templates that are 'overlapped' by others with higher priority.\n",
    "\n",
    "**Output:** The code generates a complete list of index templates, indicating whether they are overlapped in the 'overlapped_with' field."
   ]
  },
  {
   "cell_type": "code",
   "execution_count": null,
   "id": "6968eed0-b607-4b18-b40f-d463a1c899f8",
   "metadata": {},
   "outputs": [],
   "source": [
    "def pattern_to_regex(pattern):\n",
    "    \"\"\"Convert wildcard pattern to regex pattern.\"\"\"\n",
    "    escaped_pattern = re.escape(pattern)\n",
    "    regex_pattern = \"^{0}$\".format(escaped_pattern.replace(r'\\*', '.*'))\n",
    "    return regex_pattern\n",
    "\n",
    "def check_overlap(pattern1, pattern2):\n",
    "    \"\"\"Check the type of overlap between two patterns.\"\"\"\n",
    "    if pattern1 == pattern2:\n",
    "        return 2\n",
    "\n",
    "    regex1 = pattern_to_regex(pattern1)\n",
    "    regex2 = pattern_to_regex(pattern2)\n",
    "\n",
    "    if re.match(regex1, pattern2):\n",
    "        return 1\n",
    "    elif re.match(regex2, pattern1):\n",
    "        return 3\n",
    "\n",
    "    return 0\n",
    "\n",
    "# Fetch index templates from Elasticsearch client\n",
    "response = client.indices.get_index_template()\n",
    "print(f\"Total index templates found: {len(response['index_templates'])}\")\n",
    "\n",
    "# Prepare data for DataFrame\n",
    "data = [{\n",
    "    \"name\": template[\"name\"],\n",
    "    \"index_patterns\": template[\"index_template\"][\"index_patterns\"],\n",
    "    \"priority\": template[\"index_template\"].get(\"priority\", 0),\n",
    "    \"managed\": template[\"index_template\"].get(\"_meta\", {}).get(\"managed\", False),\n",
    "    \"overlapped_with\": \"\"\n",
    "} for template in response[\"index_templates\"]]\n",
    "\n",
    "# Compare patterns to find overlaps\n",
    "n = len(data)\n",
    "for i in range(n):\n",
    "    for p1 in data[i][\"index_patterns\"]:\n",
    "        for j in range(i + 1, n):\n",
    "            for p2 in data[j][\"index_patterns\"]:\n",
    "                status = check_overlap(p1, p2)\n",
    "                priority_diff = data[i][\"priority\"] - data[j][\"priority\"]\n",
    "\n",
    "                if status in (1, 2) and priority_diff > 0:\n",
    "                    data[j][\"overlapped_with\"] = data[i][\"name\"]\n",
    "                elif status in (3, 2) and priority_diff < 0:\n",
    "                    data[i][\"overlapped_with\"] = data[j][\"name\"]\n",
    "\n",
    "# Create DataFrame and sort by 'overlapped_with'\n",
    "df = pd.DataFrame(data).sort_values(by=\"overlapped_with\", ascending=False).reset_index(drop=True)\n",
    "\n",
    "# Save DataFrame to CSV\n",
    "output_dir = Path('temp')\n",
    "output_dir.mkdir(parents=True, exist_ok=True)\n",
    "csv_path = output_dir / \"overlapping_templates.csv\"\n",
    "df.to_csv(csv_path, index=False)\n",
    "\n",
    "# Display a link to download the CSV\n",
    "display(FileLink(csv_path, result_html_prefix=\"Open CSV file: \"))"
   ]
  },
  {
   "cell_type": "markdown",
   "id": "96024d5e-e103-46dc-903d-e6c883ec2a6d",
   "metadata": {},
   "source": [
    "### Analyze unused component templates\n",
    "\n",
    "> [https://www.elastic.co/guide/en/elasticsearch/reference/current/indices-component-template.html](https://www.elastic.co/guide/en/elasticsearch/reference/current/indices-component-template.html)\n",
    "\n",
    "Index templates in Elasticsearch can be composed of component templates, which are pieces of an index template configuration used as building blocks for the resulting index template.\n",
    "\n",
    "A lack of careful management of Elasticsearch entities may lead to the accumulation of unused component templates in cluster. The code below is designed to identify such obsolete component templates."
   ]
  },
  {
   "cell_type": "code",
   "execution_count": null,
   "id": "7bc8889e-1650-400f-ada5-234b950e7bb7",
   "metadata": {},
   "outputs": [],
   "source": [
    "index_template_response = client.indices.get_index_template()\n",
    "print(f\"Total index templates found: {len(index_template_response['index_templates'])}\")\n",
    "\n",
    "component_template_response = client.cluster.get_component_template()\n",
    "print(f\"Total component templates found: {len(component_template_response['component_templates'])}\")\n",
    "\n",
    "# Extract component templates in use from index templates\n",
    "component_templates_in_use = []\n",
    "for template in index_template_response[\"index_templates\"]:\n",
    "    components = template[\"index_template\"].get(\"composed_of\", [])\n",
    "    for component in components:\n",
    "        component_templates_in_use.append({\"name\": component})\n",
    "\n",
    "# Extract all component templates in the cluster\n",
    "component_templates_in_cluster = [\n",
    "    {\"name\": template[\"name\"]} for template in component_template_response[\"component_templates\"]\n",
    "]\n",
    "\n",
    "# Create DataFrames\n",
    "df1 = pd.DataFrame(component_templates_in_cluster)\n",
    "df2 = pd.DataFrame(component_templates_in_use).drop_duplicates(keep='first')\n",
    "\n",
    "# Find component templates that are not in use\n",
    "diff = pd.merge(df1, df2, on=['name'], how='left', indicator=True)\n",
    "unused_components = diff[diff['_merge'] == 'left_only']\n",
    "\n",
    "# Save DataFrame to CSV\n",
    "output_dir = Path('temp')\n",
    "output_dir.mkdir(parents=True, exist_ok=True)\n",
    "csv_path = output_dir / \"unused_component_templates.csv\"\n",
    "unused_components.to_csv(csv_path, index=False)\n",
    "\n",
    "# Display a link to download the CSV\n",
    "display(FileLink(csv_path, result_html_prefix=\"Open CSV file: \"))"
   ]
  }
 ],
 "metadata": {
  "kernelspec": {
   "display_name": "Python 3 (ipykernel)",
   "language": "python",
   "name": "python3"
  },
  "language_info": {
   "codemirror_mode": {
    "name": "ipython",
    "version": 3
   },
   "file_extension": ".py",
   "mimetype": "text/x-python",
   "name": "python",
   "nbconvert_exporter": "python",
   "pygments_lexer": "ipython3",
   "version": "3.11.10"
  }
 },
 "nbformat": 4,
 "nbformat_minor": 5
}
